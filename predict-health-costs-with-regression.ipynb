{
  "cells": [
    {
      "cell_type": "code",
      "source": [
        "# --- Cell 1: Imports + robust dataset loader ---\n",
        "import pandas as pd\n",
        "import numpy as np\n",
        "import matplotlib.pyplot as plt\n",
        "from sklearn.model_selection import train_test_split\n",
        "from sklearn.linear_model import LinearRegression\n",
        "from sklearn.metrics import mean_absolute_error\n",
        "\n",
        "CANDIDATE_URLS = [\n",
        "    # Original FCC repo (may not host the CSV at root)\n",
        "    \"https://raw.githubusercontent.com/freeCodeCamp/boilerplate-linear-regression-health-costs-calculator/main/insurance.csv\",\n",
        "    \"https://raw.githubusercontent.com/freeCodeCamp/boilerplate-linear-regression-health-costs-calculator/master/insurance.csv\",\n",
        "    \"https://raw.githubusercontent.com/freeCodeCamp/boilerplate-linear-regression-health-costs-calculator/main/data/insurance.csv\",\n",
        "    # Known good public mirror\n",
        "    \"https://raw.githubusercontent.com/stedy/Machine-Learning-with-R-datasets/master/insurance.csv\",\n",
        "]\n",
        "\n",
        "df = None\n",
        "for u in CANDIDATE_URLS:\n",
        "    try:\n",
        "        df = pd.read_csv(u, encoding=\"latin1\")\n",
        "        print(f\"Loaded dataset from: {u}\")\n",
        "        break\n",
        "    except Exception as e:\n",
        "        print(f\"Failed to load {u}: {e}\")\n",
        "\n",
        "if df is None:\n",
        "    raise RuntimeError(\"Could not load 'insurance.csv'. Upload it to /content and use pd.read_csv('/content/insurance.csv').\")\n",
        "\n",
        "# Normalise target name: some versions use `charges` instead of `expenses`\n",
        "if \"expenses\" not in df.columns and \"charges\" in df.columns:\n",
        "    df = df.rename(columns={\"charges\": \"expenses\"})\n",
        "\n",
        "print(df.head())\n",
        "print(\"\\nDataset shape:\", df.shape)"
      ],
      "metadata": {
        "id": "Eq8hGYYlECNQ"
      },
      "execution_count": null,
      "outputs": []
    },
    {
      "cell_type": "code",
      "source": [
        "# Convert categorical columns to numeric dummies\n",
        "df = pd.get_dummies(df, drop_first=True)\n",
        "print(\"Converted categorical features to numeric.\")\n",
        "df.head()"
      ],
      "metadata": {
        "id": "orQbVHTZEIVw"
      },
      "execution_count": null,
      "outputs": []
    },
    {
      "cell_type": "code",
      "source": [
        "X = df.drop(\"expenses\", axis=1)\n",
        "y = df[\"expenses\"]\n",
        "\n",
        "X_train, X_test, y_train, y_test = train_test_split(\n",
        "    X, y, test_size=0.20, random_state=42\n",
        ")\n",
        "\n",
        "print(\"Train shape:\", X_train.shape)\n",
        "print(\"Test shape :\", X_test.shape)"
      ],
      "metadata": {
        "id": "InElmogYEQfB"
      },
      "execution_count": null,
      "outputs": []
    },
    {
      "cell_type": "code",
      "source": [
        "model = LinearRegression()\n",
        "model.fit(X_train, y_train)\n",
        "\n",
        "print(\"Model trained.\")\n",
        "print(\"Intercept:\", model.intercept_)\n",
        "print(\"Number of coefficients:\", len(model.coef_))"
      ],
      "metadata": {
        "id": "E3-9YAZhEW54"
      },
      "execution_count": null,
      "outputs": []
    },
    {
      "cell_type": "code",
      "source": [
        "y_pred = model.predict(X_test)\n",
        "mae = mean_absolute_error(y_test, y_pred)\n",
        "print(f\"Mean Absolute Error (MAE): {mae:.2f}\")\n",
        "\n",
        "if mae < 3500:\n",
        "    print(\"✅ Challenge passed! MAE < 3500.\")\n",
        "else:\n",
        "    print(\"❌ MAE >= 3500. Try re-running or improving preprocessing.\")"
      ],
      "metadata": {
        "id": "a5VMWGAIEehw"
      },
      "execution_count": null,
      "outputs": []
    },
    {
      "cell_type": "code",
      "source": [
        "import matplotlib.pyplot as plt\n",
        "\n",
        "plt.figure(figsize=(8,6))\n",
        "plt.scatter(y_test, y_pred, alpha=0.5, color='teal')\n",
        "max_val = max(y_test.max(), y_pred.max())\n",
        "plt.plot([0, max_val], [0, max_val], 'r--', label='Ideal')\n",
        "plt.title(\"Actual vs Predicted Healthcare Expenses\")\n",
        "plt.xlabel(\"Actual expenses\")\n",
        "plt.ylabel(\"Predicted expenses\")\n",
        "plt.legend()\n",
        "plt.show()"
      ],
      "metadata": {
        "id": "qko0eAIlEku4"
      },
      "execution_count": null,
      "outputs": []
    }
  ],
  "metadata": {
    "colab": {
      "name": "fcc_predict_health_costs_with_regression.ipynb",
      "private_outputs": true,
      "provenance": []
    },
    "kernelspec": {
      "display_name": "Python 3",
      "name": "python3"
    }
  },
  "nbformat": 4,
  "nbformat_minor": 0
}
