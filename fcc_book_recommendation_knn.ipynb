{
  "cells": [
    {
      "cell_type": "markdown",
      "metadata": {
        "id": "view-in-github",
        "colab_type": "text"
      },
      "source": [
        "<a href=\"https://colab.research.google.com/github/dataview26/freecodecamp-machine-learning-with-python-projects/blob/main/fcc_book_recommendation_knn.ipynb\" target=\"_parent\"><img src=\"https://colab.research.google.com/assets/colab-badge.svg\" alt=\"Open In Colab\"/></a>"
      ]
    },
    {
      "cell_type": "code",
      "source": [
        "import numpy as np\n",
        "import pandas as pd\n",
        "from scipy.sparse import csr_matrix\n",
        "from sklearn.neighbors import NearestNeighbors\n",
        "import matplotlib.pyplot as plt"
      ],
      "metadata": {
        "id": "h-ETlNzR-10g"
      },
      "execution_count": null,
      "outputs": []
    },
    {
      "cell_type": "code",
      "source": [
        "# Load books\n",
        "books_filename = '/content/books.csv'\n",
        "df_books = pd.read_csv(\n",
        "    books_filename,\n",
        "    encoding=\"ISO-8859-1\",\n",
        "    sep=\";\",\n",
        "    header=0,\n",
        "    names=['isbn', 'title', 'author', 'year', 'publisher', 'image_s', 'image_m', 'image_l'],\n",
        "    usecols=['isbn', 'title', 'author'],\n",
        "    dtype={'isbn': 'str', 'title': 'str', 'author': 'str'}\n",
        ")\n",
        "\n",
        "# Load ratings\n",
        "ratings_filename = '/content/ratings.csv'\n",
        "df_ratings = pd.read_csv(\n",
        "    ratings_filename,\n",
        "    encoding=\"ISO-8859-1\",\n",
        "    sep=\";\",\n",
        "    header=0,\n",
        "    names=['user', 'isbn', 'rating'],\n",
        "    usecols=['user', 'isbn', 'rating'],\n",
        "    dtype={'user': 'int32', 'isbn': 'str', 'rating': 'float32'}\n",
        ")\n",
        "\n",
        "print(\"Data loaded successfully!\")\n",
        "print(f\"Books: {df_books.shape}\")\n",
        "print(f\"Ratings: {df_ratings.shape}\")"
      ],
      "metadata": {
        "colab": {
          "base_uri": "https://localhost:8080/"
        },
        "id": "OvDJljBA_LeQ",
        "outputId": "b60cc531-36b6-41ac-8f76-6daab1eba8c1"
      },
      "execution_count": null,
      "outputs": [
        {
          "output_type": "stream",
          "name": "stdout",
          "text": [
            "Data loaded successfully!\n",
            "Books: (271379, 3)\n",
            "Ratings: (1149780, 3)\n"
          ]
        }
      ]
    },
    {
      "cell_type": "code",
      "source": [
        "# Count ratings per user\n",
        "user_counts = df_ratings['user'].value_counts()\n",
        "# Count ratings per book\n",
        "book_counts = df_ratings['isbn'].value_counts()\n",
        "\n",
        "# Keep only users with 200+ ratings\n",
        "users_to_keep = user_counts[user_counts >= 200].index\n",
        "df_ratings = df_ratings[df_ratings['user'].isin(users_to_keep)]\n",
        "\n",
        "# Keep only books with 100+ ratings\n",
        "books_to_keep = book_counts[book_counts >= 100].index\n",
        "df_ratings = df_ratings[df_ratings['isbn'].isin(books_to_keep)]\n",
        "\n",
        "print(f\"After filtering:\")\n",
        "print(f\"Ratings: {df_ratings.shape}\")\n",
        "print(f\"Users: {df_ratings['user'].nunique()}\")\n",
        "print(f\"Books: {df_ratings['isbn'].nunique()}\")"
      ],
      "metadata": {
        "colab": {
          "base_uri": "https://localhost:8080/"
        },
        "id": "NRBCYuDC_XZY",
        "outputId": "8f8e62f5-b51a-4a69-de6c-f95cc69234a5"
      },
      "execution_count": null,
      "outputs": [
        {
          "output_type": "stream",
          "name": "stdout",
          "text": [
            "After filtering:\n",
            "Ratings: (49781, 3)\n",
            "Users: 888\n",
            "Books: 731\n"
          ]
        }
      ]
    },
    {
      "cell_type": "code",
      "source": [
        "# Combine books and ratings\n",
        "df = pd.merge(df_ratings, df_books, on='isbn')\n",
        "\n",
        "print(f\"Merged data shape: {df.shape}\")\n",
        "display(df.head())"
      ],
      "metadata": {
        "colab": {
          "base_uri": "https://localhost:8080/",
          "height": 275
        },
        "id": "9v6gmTRg_eTv",
        "outputId": "c5727e99-ee9c-4863-990c-061dafd0b804"
      },
      "execution_count": null,
      "outputs": [
        {
          "output_type": "stream",
          "name": "stdout",
          "text": [
            "Merged data shape: (49517, 5)\n"
          ]
        },
        {
          "output_type": "display_data",
          "data": {
            "text/plain": [
              "     user        isbn  rating                                                                     title  \\\n",
              "0  277427  002542730X    10.0  Politically Correct Bedtime Stories: Modern Tales for Our Life and Times   \n",
              "1  277427  0060930535     0.0                                             The Poisonwood Bible: A Novel   \n",
              "2  277427  0060934417     0.0                                                        Bel Canto: A Novel   \n",
              "3  277427  0061009059     9.0                     One for the Money (Stephanie Plum Novels (Paperback))   \n",
              "4  277427  0140067477     0.0                                                           The Tao of Pooh   \n",
              "\n",
              "               author  \n",
              "0   James Finn Garner  \n",
              "1  Barbara Kingsolver  \n",
              "2        Ann Patchett  \n",
              "3     Janet Evanovich  \n",
              "4       Benjamin Hoff  "
            ],
            "text/html": [
              "\n",
              "  <div id=\"df-8414e6ff-c2b7-4766-a2d9-8bead0aa6376\" class=\"colab-df-container\">\n",
              "    <div>\n",
              "<style scoped>\n",
              "    .dataframe tbody tr th:only-of-type {\n",
              "        vertical-align: middle;\n",
              "    }\n",
              "\n",
              "    .dataframe tbody tr th {\n",
              "        vertical-align: top;\n",
              "    }\n",
              "\n",
              "    .dataframe thead th {\n",
              "        text-align: right;\n",
              "    }\n",
              "</style>\n",
              "<table border=\"1\" class=\"dataframe\">\n",
              "  <thead>\n",
              "    <tr style=\"text-align: right;\">\n",
              "      <th></th>\n",
              "      <th>user</th>\n",
              "      <th>isbn</th>\n",
              "      <th>rating</th>\n",
              "      <th>title</th>\n",
              "      <th>author</th>\n",
              "    </tr>\n",
              "  </thead>\n",
              "  <tbody>\n",
              "    <tr>\n",
              "      <th>0</th>\n",
              "      <td>277427</td>\n",
              "      <td>002542730X</td>\n",
              "      <td>10.0</td>\n",
              "      <td>Politically Correct Bedtime Stories: Modern Tales for Our Life and Times</td>\n",
              "      <td>James Finn Garner</td>\n",
              "    </tr>\n",
              "    <tr>\n",
              "      <th>1</th>\n",
              "      <td>277427</td>\n",
              "      <td>0060930535</td>\n",
              "      <td>0.0</td>\n",
              "      <td>The Poisonwood Bible: A Novel</td>\n",
              "      <td>Barbara Kingsolver</td>\n",
              "    </tr>\n",
              "    <tr>\n",
              "      <th>2</th>\n",
              "      <td>277427</td>\n",
              "      <td>0060934417</td>\n",
              "      <td>0.0</td>\n",
              "      <td>Bel Canto: A Novel</td>\n",
              "      <td>Ann Patchett</td>\n",
              "    </tr>\n",
              "    <tr>\n",
              "      <th>3</th>\n",
              "      <td>277427</td>\n",
              "      <td>0061009059</td>\n",
              "      <td>9.0</td>\n",
              "      <td>One for the Money (Stephanie Plum Novels (Paperback))</td>\n",
              "      <td>Janet Evanovich</td>\n",
              "    </tr>\n",
              "    <tr>\n",
              "      <th>4</th>\n",
              "      <td>277427</td>\n",
              "      <td>0140067477</td>\n",
              "      <td>0.0</td>\n",
              "      <td>The Tao of Pooh</td>\n",
              "      <td>Benjamin Hoff</td>\n",
              "    </tr>\n",
              "  </tbody>\n",
              "</table>\n",
              "</div>\n",
              "    <div class=\"colab-df-buttons\">\n",
              "\n",
              "  <div class=\"colab-df-container\">\n",
              "    <button class=\"colab-df-convert\" onclick=\"convertToInteractive('df-8414e6ff-c2b7-4766-a2d9-8bead0aa6376')\"\n",
              "            title=\"Convert this dataframe to an interactive table.\"\n",
              "            style=\"display:none;\">\n",
              "\n",
              "  <svg xmlns=\"http://www.w3.org/2000/svg\" height=\"24px\" viewBox=\"0 -960 960 960\">\n",
              "    <path d=\"M120-120v-720h720v720H120Zm60-500h600v-160H180v160Zm220 220h160v-160H400v160Zm0 220h160v-160H400v160ZM180-400h160v-160H180v160Zm440 0h160v-160H620v160ZM180-180h160v-160H180v160Zm440 0h160v-160H620v160Z\"/>\n",
              "  </svg>\n",
              "    </button>\n",
              "\n",
              "  <style>\n",
              "    .colab-df-container {\n",
              "      display:flex;\n",
              "      gap: 12px;\n",
              "    }\n",
              "\n",
              "    .colab-df-convert {\n",
              "      background-color: #E8F0FE;\n",
              "      border: none;\n",
              "      border-radius: 50%;\n",
              "      cursor: pointer;\n",
              "      display: none;\n",
              "      fill: #1967D2;\n",
              "      height: 32px;\n",
              "      padding: 0 0 0 0;\n",
              "      width: 32px;\n",
              "    }\n",
              "\n",
              "    .colab-df-convert:hover {\n",
              "      background-color: #E2EBFA;\n",
              "      box-shadow: 0px 1px 2px rgba(60, 64, 67, 0.3), 0px 1px 3px 1px rgba(60, 64, 67, 0.15);\n",
              "      fill: #174EA6;\n",
              "    }\n",
              "\n",
              "    .colab-df-buttons div {\n",
              "      margin-bottom: 4px;\n",
              "    }\n",
              "\n",
              "    [theme=dark] .colab-df-convert {\n",
              "      background-color: #3B4455;\n",
              "      fill: #D2E3FC;\n",
              "    }\n",
              "\n",
              "    [theme=dark] .colab-df-convert:hover {\n",
              "      background-color: #434B5C;\n",
              "      box-shadow: 0px 1px 3px 1px rgba(0, 0, 0, 0.15);\n",
              "      filter: drop-shadow(0px 1px 2px rgba(0, 0, 0, 0.3));\n",
              "      fill: #FFFFFF;\n",
              "    }\n",
              "  </style>\n",
              "\n",
              "    <script>\n",
              "      const buttonEl =\n",
              "        document.querySelector('#df-8414e6ff-c2b7-4766-a2d9-8bead0aa6376 button.colab-df-convert');\n",
              "      buttonEl.style.display =\n",
              "        google.colab.kernel.accessAllowed ? 'block' : 'none';\n",
              "\n",
              "      async function convertToInteractive(key) {\n",
              "        const element = document.querySelector('#df-8414e6ff-c2b7-4766-a2d9-8bead0aa6376');\n",
              "        const dataTable =\n",
              "          await google.colab.kernel.invokeFunction('convertToInteractive',\n",
              "                                                    [key], {});\n",
              "        if (!dataTable) return;\n",
              "\n",
              "        const docLinkHtml = 'Like what you see? Visit the ' +\n",
              "          '<a target=\"_blank\" href=https://colab.research.google.com/notebooks/data_table.ipynb>data table notebook</a>'\n",
              "          + ' to learn more about interactive tables.';\n",
              "        element.innerHTML = '';\n",
              "        dataTable['output_type'] = 'display_data';\n",
              "        await google.colab.output.renderOutput(dataTable, element);\n",
              "        const docLink = document.createElement('div');\n",
              "        docLink.innerHTML = docLinkHtml;\n",
              "        element.appendChild(docLink);\n",
              "      }\n",
              "    </script>\n",
              "  </div>\n",
              "\n",
              "\n",
              "    <div id=\"df-e5ad61ea-1cef-4b8f-9fe5-ac8d354dfdbe\">\n",
              "      <button class=\"colab-df-quickchart\" onclick=\"quickchart('df-e5ad61ea-1cef-4b8f-9fe5-ac8d354dfdbe')\"\n",
              "                title=\"Suggest charts\"\n",
              "                style=\"display:none;\">\n",
              "\n",
              "<svg xmlns=\"http://www.w3.org/2000/svg\" height=\"24px\"viewBox=\"0 0 24 24\"\n",
              "     width=\"24px\">\n",
              "    <g>\n",
              "        <path d=\"M19 3H5c-1.1 0-2 .9-2 2v14c0 1.1.9 2 2 2h14c1.1 0 2-.9 2-2V5c0-1.1-.9-2-2-2zM9 17H7v-7h2v7zm4 0h-2V7h2v10zm4 0h-2v-4h2v4z\"/>\n",
              "    </g>\n",
              "</svg>\n",
              "      </button>\n",
              "\n",
              "<style>\n",
              "  .colab-df-quickchart {\n",
              "      --bg-color: #E8F0FE;\n",
              "      --fill-color: #1967D2;\n",
              "      --hover-bg-color: #E2EBFA;\n",
              "      --hover-fill-color: #174EA6;\n",
              "      --disabled-fill-color: #AAA;\n",
              "      --disabled-bg-color: #DDD;\n",
              "  }\n",
              "\n",
              "  [theme=dark] .colab-df-quickchart {\n",
              "      --bg-color: #3B4455;\n",
              "      --fill-color: #D2E3FC;\n",
              "      --hover-bg-color: #434B5C;\n",
              "      --hover-fill-color: #FFFFFF;\n",
              "      --disabled-bg-color: #3B4455;\n",
              "      --disabled-fill-color: #666;\n",
              "  }\n",
              "\n",
              "  .colab-df-quickchart {\n",
              "    background-color: var(--bg-color);\n",
              "    border: none;\n",
              "    border-radius: 50%;\n",
              "    cursor: pointer;\n",
              "    display: none;\n",
              "    fill: var(--fill-color);\n",
              "    height: 32px;\n",
              "    padding: 0;\n",
              "    width: 32px;\n",
              "  }\n",
              "\n",
              "  .colab-df-quickchart:hover {\n",
              "    background-color: var(--hover-bg-color);\n",
              "    box-shadow: 0 1px 2px rgba(60, 64, 67, 0.3), 0 1px 3px 1px rgba(60, 64, 67, 0.15);\n",
              "    fill: var(--button-hover-fill-color);\n",
              "  }\n",
              "\n",
              "  .colab-df-quickchart-complete:disabled,\n",
              "  .colab-df-quickchart-complete:disabled:hover {\n",
              "    background-color: var(--disabled-bg-color);\n",
              "    fill: var(--disabled-fill-color);\n",
              "    box-shadow: none;\n",
              "  }\n",
              "\n",
              "  .colab-df-spinner {\n",
              "    border: 2px solid var(--fill-color);\n",
              "    border-color: transparent;\n",
              "    border-bottom-color: var(--fill-color);\n",
              "    animation:\n",
              "      spin 1s steps(1) infinite;\n",
              "  }\n",
              "\n",
              "  @keyframes spin {\n",
              "    0% {\n",
              "      border-color: transparent;\n",
              "      border-bottom-color: var(--fill-color);\n",
              "      border-left-color: var(--fill-color);\n",
              "    }\n",
              "    20% {\n",
              "      border-color: transparent;\n",
              "      border-left-color: var(--fill-color);\n",
              "      border-top-color: var(--fill-color);\n",
              "    }\n",
              "    30% {\n",
              "      border-color: transparent;\n",
              "      border-left-color: var(--fill-color);\n",
              "      border-top-color: var(--fill-color);\n",
              "      border-right-color: var(--fill-color);\n",
              "    }\n",
              "    40% {\n",
              "      border-color: transparent;\n",
              "      border-right-color: var(--fill-color);\n",
              "      border-top-color: var(--fill-color);\n",
              "    }\n",
              "    60% {\n",
              "      border-color: transparent;\n",
              "      border-right-color: var(--fill-color);\n",
              "    }\n",
              "    80% {\n",
              "      border-color: transparent;\n",
              "      border-right-color: var(--fill-color);\n",
              "      border-bottom-color: var(--fill-color);\n",
              "    }\n",
              "    90% {\n",
              "      border-color: transparent;\n",
              "      border-bottom-color: var(--fill-color);\n",
              "    }\n",
              "  }\n",
              "</style>\n",
              "\n",
              "      <script>\n",
              "        async function quickchart(key) {\n",
              "          const quickchartButtonEl =\n",
              "            document.querySelector('#' + key + ' button');\n",
              "          quickchartButtonEl.disabled = true;  // To prevent multiple clicks.\n",
              "          quickchartButtonEl.classList.add('colab-df-spinner');\n",
              "          try {\n",
              "            const charts = await google.colab.kernel.invokeFunction(\n",
              "                'suggestCharts', [key], {});\n",
              "          } catch (error) {\n",
              "            console.error('Error during call to suggestCharts:', error);\n",
              "          }\n",
              "          quickchartButtonEl.classList.remove('colab-df-spinner');\n",
              "          quickchartButtonEl.classList.add('colab-df-quickchart-complete');\n",
              "        }\n",
              "        (() => {\n",
              "          let quickchartButtonEl =\n",
              "            document.querySelector('#df-e5ad61ea-1cef-4b8f-9fe5-ac8d354dfdbe button');\n",
              "          quickchartButtonEl.style.display =\n",
              "            google.colab.kernel.accessAllowed ? 'block' : 'none';\n",
              "        })();\n",
              "      </script>\n",
              "    </div>\n",
              "\n",
              "    </div>\n",
              "  </div>\n"
            ],
            "application/vnd.google.colaboratory.intrinsic+json": {
              "type": "dataframe",
              "summary": "{\n  \"name\": \"display(df\",\n  \"rows\": 5,\n  \"fields\": [\n    {\n      \"column\": \"user\",\n      \"properties\": {\n        \"dtype\": \"int32\",\n        \"num_unique_values\": 1,\n        \"samples\": [\n          277427\n        ],\n        \"semantic_type\": \"\",\n        \"description\": \"\"\n      }\n    },\n    {\n      \"column\": \"isbn\",\n      \"properties\": {\n        \"dtype\": \"string\",\n        \"num_unique_values\": 5,\n        \"samples\": [\n          \"0060930535\"\n        ],\n        \"semantic_type\": \"\",\n        \"description\": \"\"\n      }\n    },\n    {\n      \"column\": \"rating\",\n      \"properties\": {\n        \"dtype\": \"float32\",\n        \"num_unique_values\": 3,\n        \"samples\": [\n          10.0\n        ],\n        \"semantic_type\": \"\",\n        \"description\": \"\"\n      }\n    },\n    {\n      \"column\": \"title\",\n      \"properties\": {\n        \"dtype\": \"string\",\n        \"num_unique_values\": 5,\n        \"samples\": [\n          \"The Poisonwood Bible: A Novel\"\n        ],\n        \"semantic_type\": \"\",\n        \"description\": \"\"\n      }\n    },\n    {\n      \"column\": \"author\",\n      \"properties\": {\n        \"dtype\": \"string\",\n        \"num_unique_values\": 5,\n        \"samples\": [\n          \"Barbara Kingsolver\"\n        ],\n        \"semantic_type\": \"\",\n        \"description\": \"\"\n      }\n    }\n  ]\n}"
            }
          },
          "metadata": {}
        }
      ]
    },
    {
      "cell_type": "code",
      "source": [
        "# Create matrix: rows=books, columns=users, values=ratings\n",
        "df_pivot = df.pivot_table(\n",
        "    index='title',\n",
        "    columns='user',\n",
        "    values='rating'\n",
        ").fillna(0)\n",
        "\n",
        "print(f\"Pivot shape: {df_pivot.shape}\")\n",
        "print(f\"Books: {df_pivot.shape[0]}\")\n",
        "print(f\"Users: {df_pivot.shape[1]}\")"
      ],
      "metadata": {
        "colab": {
          "base_uri": "https://localhost:8080/"
        },
        "id": "Ji07u8Dp_j9A",
        "outputId": "45da512f-fcc2-4135-bfdb-f7e3101e1891"
      },
      "execution_count": null,
      "outputs": [
        {
          "output_type": "stream",
          "name": "stdout",
          "text": [
            "Pivot shape: (673, 888)\n",
            "Books: 673\n",
            "Users: 888\n"
          ]
        }
      ]
    },
    {
      "cell_type": "code",
      "source": [
        "# Convert to sparse matrix for efficiency\n",
        "mat_books_users = csr_matrix(df_pivot.values)\n",
        "\n",
        "print(f\"Matrix shape: {mat_books_users.shape}\")"
      ],
      "metadata": {
        "colab": {
          "base_uri": "https://localhost:8080/"
        },
        "id": "1n4GtUu1_qxv",
        "outputId": "adb2c04c-3486-44f7-9e60-b89dfe16f73f"
      },
      "execution_count": null,
      "outputs": [
        {
          "output_type": "stream",
          "name": "stdout",
          "text": [
            "Matrix shape: (673, 888)\n"
          ]
        }
      ]
    },
    {
      "cell_type": "code",
      "source": [
        "# Train the model\n",
        "model_knn = NearestNeighbors(metric='cosine', algorithm='brute', n_neighbors=6)\n",
        "model_knn.fit(mat_books_users)\n",
        "\n",
        "print(\"Model trained successfully!\")"
      ],
      "metadata": {
        "colab": {
          "base_uri": "https://localhost:8080/"
        },
        "id": "ZAYmCc3j_xTg",
        "outputId": "7cc8fece-9158-4ccd-accb-51daadae6f3f"
      },
      "execution_count": null,
      "outputs": [
        {
          "output_type": "stream",
          "name": "stdout",
          "text": [
            "Model trained successfully!\n"
          ]
        }
      ]
    },
    {
      "cell_type": "code",
      "source": [
        "def get_recommends(book_title):\n",
        "    # Find book in dataset\n",
        "    if book_title not in df_pivot.index:\n",
        "        print(f\"Book not found: {book_title}\")\n",
        "        return None\n",
        "\n",
        "    # Get book index\n",
        "    book_idx = df_pivot.index.get_loc(book_title)\n",
        "\n",
        "    # Find 6 nearest neighbors (including the book itself)\n",
        "    distances, indices = model_knn.kneighbors(\n",
        "        mat_books_users[book_idx],\n",
        "        n_neighbors=6\n",
        "    )\n",
        "\n",
        "    # Build recommendations list (skip first item which is the book itself)\n",
        "    recommendations = []\n",
        "    for i in range(1, 6):\n",
        "        book_name = df_pivot.index[indices[0][i]]\n",
        "        distance = distances[0][i]\n",
        "        recommendations.append([book_name, distance])\n",
        "\n",
        "    # Reverse list so closest books are at the end\n",
        "    recommendations.reverse()\n",
        "\n",
        "    return [book_title, recommendations]\n",
        "\n",
        "print(\"Function created successfully!\")"
      ],
      "metadata": {
        "colab": {
          "base_uri": "https://localhost:8080/"
        },
        "id": "M1Q6X4rQ_5mw",
        "outputId": "4a80c607-5ab3-4805-fe9d-7ef06a194106"
      },
      "execution_count": null,
      "outputs": [
        {
          "output_type": "stream",
          "name": "stdout",
          "text": [
            "Function created successfully!\n"
          ]
        }
      ]
    },
    {
      "cell_type": "code",
      "source": [
        "# Test with the example book\n",
        "result = get_recommends(\"The Queen of the Damned (Vampire Chronicles (Paperback))\")\n",
        "print(result)"
      ],
      "metadata": {
        "colab": {
          "base_uri": "https://localhost:8080/"
        },
        "id": "oy8p9RHm_97H",
        "outputId": "a105f228-168d-4243-b756-1f53ede0b1dc"
      },
      "execution_count": null,
      "outputs": [
        {
          "output_type": "stream",
          "name": "stdout",
          "text": [
            "['The Queen of the Damned (Vampire Chronicles (Paperback))', [['Catch 22', np.float32(0.7939835)], ['The Witching Hour (Lives of the Mayfair Witches)', np.float32(0.74486566)], ['Interview with the Vampire', np.float32(0.73450685)], ['The Tale of the Body Thief (Vampire Chronicles (Paperback))', np.float32(0.53763384)], ['The Vampire Lestat (Vampire Chronicles, Book II)', np.float32(0.5178412)]]]\n"
          ]
        }
      ]
    },
    {
      "cell_type": "code",
      "source": [
        "def test_book_recommendation():\n",
        "    test_pass = True\n",
        "    recommends = get_recommends(\"The Queen of the Damned (Vampire Chronicles (Paperback))\")\n",
        "\n",
        "    if recommends[0] != \"The Queen of the Damned (Vampire Chronicles (Paperback))\":\n",
        "        test_pass = False\n",
        "\n",
        "    recommended_books = [\n",
        "        \"Catch 22\",\n",
        "        \"The Witching Hour (Lives of the Mayfair Witches)\",\n",
        "        \"Interview with the Vampire\",\n",
        "        \"The Tale of the Body Thief (Vampire Chronicles (Paperback))\",\n",
        "        \"The Vampire Lestat (Vampire Chronicles, Book II)\"\n",
        "    ]\n",
        "\n",
        "    recommended_books_dist = [\n",
        "        0.793983519077301,\n",
        "        0.7448656558990479,\n",
        "        0.7345068454742432,\n",
        "        0.5376338362693787,\n",
        "        0.5178412199020386\n",
        "    ]\n",
        "\n",
        "    for i in range(5):\n",
        "        if recommends[1][i][0] not in recommended_books:\n",
        "            test_pass = False\n",
        "        if abs(recommends[1][i][1] - recommended_books_dist[i]) >= 0.05:\n",
        "            test_pass = False\n",
        "\n",
        "    if test_pass:\n",
        "        print(\"You passed the challenge! 🎉🎉🎉🎉🎉\")\n",
        "    else:\n",
        "        print(\"You haven't passed yet. Keep trying!\")\n",
        "\n",
        "test_book_recommendation()"
      ],
      "metadata": {
        "colab": {
          "base_uri": "https://localhost:8080/"
        },
        "id": "F3QJsJO-AE2X",
        "outputId": "d13b7f3a-e1ec-4333-9ea5-012fb8f3eca0"
      },
      "execution_count": null,
      "outputs": [
        {
          "output_type": "stream",
          "name": "stdout",
          "text": [
            "You passed the challenge! 🎉🎉🎉🎉🎉\n"
          ]
        }
      ]
    }
  ],
  "metadata": {
    "colab": {
      "name": "fcc_book_recommendation_knn.ipynb",
      "provenance": [],
      "include_colab_link": true
    },
    "kernelspec": {
      "display_name": "Python 3",
      "language": "python",
      "name": "python3"
    },
    "language_info": {
      "codemirror_mode": {
        "name": "ipython",
        "version": 3
      },
      "file_extension": ".py",
      "mimetype": "text/x-python",
      "name": "python",
      "nbconvert_exporter": "python",
      "pygments_lexer": "ipython3",
      "version": "3.6.5"
    }
  },
  "nbformat": 4,
  "nbformat_minor": 0
}