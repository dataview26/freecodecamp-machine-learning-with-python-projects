{
  "cells": [
    {
      "cell_type": "markdown",
      "metadata": {
        "id": "view-in-github",
        "colab_type": "text"
      },
      "source": [
        "<a href=\"https://colab.research.google.com/github/dataview26/freecodecamp-machine-learning-with-python-projects/blob/main/Copy_of_Welcome_To_Colab.ipynb\" target=\"_parent\"><img src=\"https://colab.research.google.com/assets/colab-badge.svg\" alt=\"Open In Colab\"/></a>"
      ]
    },
    {
      "cell_type": "code",
      "source": [
        "import tensorflow as tf\n",
        "import pandas as pd\n",
        "import numpy as np\n",
        "from tensorflow.keras.preprocessing.text import Tokenizer\n",
        "from tensorflow.keras.preprocessing.sequence import pad_sequences\n",
        "from tensorflow.keras.models import Sequential\n",
        "from tensorflow.keras.layers import Dense, Embedding, LSTM, Dropout, Bidirectional\n",
        "from sklearn.preprocessing import LabelEncoder\n",
        "from sklearn.model_selection import train_test_split\n",
        "import urllib.request\n",
        "import zipfile\n",
        "\n",
        "print(\"✅ All libraries imported!\")"
      ],
      "metadata": {
        "colab": {
          "base_uri": "https://localhost:8080/"
        },
        "id": "3VKLWPRMzCYK",
        "outputId": "2caa5dc2-7d46-4155-90f0-14b414c804d4"
      },
      "execution_count": null,
      "outputs": [
        {
          "output_type": "stream",
          "name": "stdout",
          "text": [
            "✅ All libraries imported!\n"
          ]
        }
      ]
    },
    {
      "cell_type": "code",
      "source": [
        "# Download the SMS spam dataset\n",
        "url = \"https://archive.ics.uci.edu/static/public/228/sms+spam+collection.zip\"\n",
        "filename = \"sms_spam.zip\"\n",
        "\n",
        "print(\"Downloading dataset...\")\n",
        "urllib.request.urlretrieve(url, filename)\n",
        "\n",
        "# Extract the zip file\n",
        "print(\"Extracting...\")\n",
        "with zipfile.ZipFile(filename, 'r') as zip_ref:\n",
        "    zip_ref.extractall('sms_data')\n",
        "\n",
        "# Load the data\n",
        "data = pd.read_csv('sms_data/SMSSpamCollection', sep='\\t', header=None, names=['label', 'message'])\n",
        "\n",
        "# Split into train and test\n",
        "train_data, test_data = train_test_split(data, test_size=0.2, random_state=42)\n",
        "\n",
        "print(\"✅ Data loaded successfully!\")\n",
        "print(f\"Train: {train_data.shape}\")\n",
        "print(f\"Test: {test_data.shape}\")\n",
        "print(\"\\nFirst few rows:\")\n",
        "print(train_data.head())"
      ],
      "metadata": {
        "colab": {
          "base_uri": "https://localhost:8080/"
        },
        "id": "vf0kZB1mzJG6",
        "outputId": "9ce35dae-5b38-4a6f-edf0-3da6ba2491f5"
      },
      "execution_count": null,
      "outputs": [
        {
          "output_type": "stream",
          "name": "stdout",
          "text": [
            "Downloading dataset...\n",
            "Extracting...\n",
            "✅ Data loaded successfully!\n",
            "Train: (4457, 2)\n",
            "Test: (1115, 2)\n",
            "\n",
            "First few rows:\n",
            "     label                                            message\n",
            "1978  spam  Reply to win £100 weekly! Where will the 2006 ...\n",
            "3989   ham  Hello. Sort of out in town already. That . So ...\n",
            "3935   ham   How come guoyang go n tell her? Then u told her?\n",
            "4078   ham  Hey sathya till now we dint meet not even a si...\n",
            "4086  spam  Orange brings you ringtones from all time Char...\n"
          ]
        }
      ]
    },
    {
      "cell_type": "code",
      "source": [
        "# Encode labels: ham=0, spam=1\n",
        "le = LabelEncoder()\n",
        "train_data['label'] = le.fit_transform(train_data['label'])\n",
        "test_data['label'] = le.transform(test_data['label'])\n",
        "\n",
        "# Split into X and y\n",
        "X_train = train_data['message'].values\n",
        "y_train = train_data['label'].values\n",
        "X_test = test_data['message'].values\n",
        "y_test = test_data['label'].values\n",
        "\n",
        "print(f\"✅ {len(X_train)} training messages\")\n",
        "print(f\"✅ {len(X_test)} test messages\")\n",
        "print(f\"Spam in training: {sum(y_train)} ({sum(y_train)/len(y_train)*100:.1f}%)\")\n",
        "print(f\"Spam in test: {sum(y_test)} ({sum(y_test)/len(y_test)*100:.1f}%)\")"
      ],
      "metadata": {
        "colab": {
          "base_uri": "https://localhost:8080/"
        },
        "id": "9P2Yet0izOix",
        "outputId": "eae4f164-476f-4822-b293-2fb486272ce8"
      },
      "execution_count": null,
      "outputs": [
        {
          "output_type": "stream",
          "name": "stdout",
          "text": [
            "✅ 4457 training messages\n",
            "✅ 1115 test messages\n",
            "Spam in training: 598 (13.4%)\n",
            "Spam in test: 149 (13.4%)\n"
          ]
        }
      ]
    },
    {
      "cell_type": "code",
      "source": [
        "# Setup tokenizer with better parameters\n",
        "vocab_size = 5000  # Reduced for better generalization\n",
        "max_length = 120   # Slightly longer to capture full messages\n",
        "tokenizer = Tokenizer(num_words=vocab_size, oov_token='<OOV>')\n",
        "tokenizer.fit_on_texts(X_train)\n",
        "\n",
        "# Convert to sequences and pad\n",
        "X_train_seq = tokenizer.texts_to_sequences(X_train)\n",
        "X_test_seq = tokenizer.texts_to_sequences(X_test)\n",
        "X_train_pad = pad_sequences(X_train_seq, maxlen=max_length, padding='post', truncating='post')\n",
        "X_test_pad = pad_sequences(X_test_seq, maxlen=max_length, padding='post', truncating='post')\n",
        "\n",
        "print(f\"✅ Tokenization complete!\")\n",
        "print(f\"Vocab size: {vocab_size}\")\n",
        "print(f\"Max length: {max_length}\")\n",
        "print(f\"Training shape: {X_train_pad.shape}\")\n",
        "print(f\"Test shape: {X_test_pad.shape}\")"
      ],
      "metadata": {
        "colab": {
          "base_uri": "https://localhost:8080/"
        },
        "id": "sIPfYnXzzSth",
        "outputId": "4da7f43a-0d9a-4c3d-bbb7-fa777c68bd4d"
      },
      "execution_count": null,
      "outputs": [
        {
          "output_type": "stream",
          "name": "stdout",
          "text": [
            "✅ Tokenization complete!\n",
            "Vocab size: 5000\n",
            "Max length: 120\n",
            "Training shape: (4457, 120)\n",
            "Test shape: (1115, 120)\n"
          ]
        }
      ]
    },
    {
      "cell_type": "code",
      "source": [
        "# Set random seed for reproducibility\n",
        "tf.random.set_seed(42)\n",
        "np.random.seed(42)\n",
        "\n",
        "# Build a stronger model\n",
        "model = Sequential([\n",
        "    Embedding(vocab_size, 64, input_length=max_length),\n",
        "    Bidirectional(LSTM(64, return_sequences=True)),\n",
        "    Dropout(0.5),\n",
        "    Bidirectional(LSTM(32)),\n",
        "    Dropout(0.5),\n",
        "    Dense(64, activation='relu'),\n",
        "    Dropout(0.5),\n",
        "    Dense(1, activation='sigmoid')\n",
        "])\n",
        "\n",
        "# Compile with better optimizer settings\n",
        "model.compile(\n",
        "    loss='binary_crossentropy',\n",
        "    optimizer=tf.keras.optimizers.Adam(learning_rate=0.001),\n",
        "    metrics=['accuracy']\n",
        ")\n",
        "\n",
        "print(\"✅ Improved model built!\")\n",
        "print(\"\\nModel Summary:\")\n",
        "model.summary()"
      ],
      "metadata": {
        "colab": {
          "base_uri": "https://localhost:8080/",
          "height": 492
        },
        "id": "wgtcioRLzXup",
        "outputId": "b65224bc-d153-4c6a-f827-44307d0858fc"
      },
      "execution_count": null,
      "outputs": [
        {
          "output_type": "stream",
          "name": "stdout",
          "text": [
            "✅ Improved model built!\n",
            "\n",
            "Model Summary:\n"
          ]
        },
        {
          "output_type": "stream",
          "name": "stderr",
          "text": [
            "/usr/local/lib/python3.12/dist-packages/keras/src/layers/core/embedding.py:97: UserWarning: Argument `input_length` is deprecated. Just remove it.\n",
            "  warnings.warn(\n"
          ]
        },
        {
          "output_type": "display_data",
          "data": {
            "text/plain": [
              "\u001b[1mModel: \"sequential_2\"\u001b[0m\n"
            ],
            "text/html": [
              "<pre style=\"white-space:pre;overflow-x:auto;line-height:normal;font-family:Menlo,'DejaVu Sans Mono',consolas,'Courier New',monospace\"><span style=\"font-weight: bold\">Model: \"sequential_2\"</span>\n",
              "</pre>\n"
            ]
          },
          "metadata": {}
        },
        {
          "output_type": "display_data",
          "data": {
            "text/plain": [
              "┏━━━━━━━━━━━━━━━━━━━━━━━━━━━━━━━━━┳━━━━━━━━━━━━━━━━━━━━━━━━┳━━━━━━━━━━━━━━━┓\n",
              "┃\u001b[1m \u001b[0m\u001b[1mLayer (type)                   \u001b[0m\u001b[1m \u001b[0m┃\u001b[1m \u001b[0m\u001b[1mOutput Shape          \u001b[0m\u001b[1m \u001b[0m┃\u001b[1m \u001b[0m\u001b[1m      Param #\u001b[0m\u001b[1m \u001b[0m┃\n",
              "┡━━━━━━━━━━━━━━━━━━━━━━━━━━━━━━━━━╇━━━━━━━━━━━━━━━━━━━━━━━━╇━━━━━━━━━━━━━━━┩\n",
              "│ embedding_2 (\u001b[38;5;33mEmbedding\u001b[0m)         │ ?                      │   \u001b[38;5;34m0\u001b[0m (unbuilt) │\n",
              "├─────────────────────────────────┼────────────────────────┼───────────────┤\n",
              "│ bidirectional (\u001b[38;5;33mBidirectional\u001b[0m)   │ ?                      │   \u001b[38;5;34m0\u001b[0m (unbuilt) │\n",
              "├─────────────────────────────────┼────────────────────────┼───────────────┤\n",
              "│ dropout_4 (\u001b[38;5;33mDropout\u001b[0m)             │ ?                      │             \u001b[38;5;34m0\u001b[0m │\n",
              "├─────────────────────────────────┼────────────────────────┼───────────────┤\n",
              "│ bidirectional_1 (\u001b[38;5;33mBidirectional\u001b[0m) │ ?                      │   \u001b[38;5;34m0\u001b[0m (unbuilt) │\n",
              "├─────────────────────────────────┼────────────────────────┼───────────────┤\n",
              "│ dropout_5 (\u001b[38;5;33mDropout\u001b[0m)             │ ?                      │             \u001b[38;5;34m0\u001b[0m │\n",
              "├─────────────────────────────────┼────────────────────────┼───────────────┤\n",
              "│ dense_4 (\u001b[38;5;33mDense\u001b[0m)                 │ ?                      │   \u001b[38;5;34m0\u001b[0m (unbuilt) │\n",
              "├─────────────────────────────────┼────────────────────────┼───────────────┤\n",
              "│ dropout_6 (\u001b[38;5;33mDropout\u001b[0m)             │ ?                      │             \u001b[38;5;34m0\u001b[0m │\n",
              "├─────────────────────────────────┼────────────────────────┼───────────────┤\n",
              "│ dense_5 (\u001b[38;5;33mDense\u001b[0m)                 │ ?                      │   \u001b[38;5;34m0\u001b[0m (unbuilt) │\n",
              "└─────────────────────────────────┴────────────────────────┴───────────────┘\n"
            ],
            "text/html": [
              "<pre style=\"white-space:pre;overflow-x:auto;line-height:normal;font-family:Menlo,'DejaVu Sans Mono',consolas,'Courier New',monospace\">┏━━━━━━━━━━━━━━━━━━━━━━━━━━━━━━━━━┳━━━━━━━━━━━━━━━━━━━━━━━━┳━━━━━━━━━━━━━━━┓\n",
              "┃<span style=\"font-weight: bold\"> Layer (type)                    </span>┃<span style=\"font-weight: bold\"> Output Shape           </span>┃<span style=\"font-weight: bold\">       Param # </span>┃\n",
              "┡━━━━━━━━━━━━━━━━━━━━━━━━━━━━━━━━━╇━━━━━━━━━━━━━━━━━━━━━━━━╇━━━━━━━━━━━━━━━┩\n",
              "│ embedding_2 (<span style=\"color: #0087ff; text-decoration-color: #0087ff\">Embedding</span>)         │ ?                      │   <span style=\"color: #00af00; text-decoration-color: #00af00\">0</span> (unbuilt) │\n",
              "├─────────────────────────────────┼────────────────────────┼───────────────┤\n",
              "│ bidirectional (<span style=\"color: #0087ff; text-decoration-color: #0087ff\">Bidirectional</span>)   │ ?                      │   <span style=\"color: #00af00; text-decoration-color: #00af00\">0</span> (unbuilt) │\n",
              "├─────────────────────────────────┼────────────────────────┼───────────────┤\n",
              "│ dropout_4 (<span style=\"color: #0087ff; text-decoration-color: #0087ff\">Dropout</span>)             │ ?                      │             <span style=\"color: #00af00; text-decoration-color: #00af00\">0</span> │\n",
              "├─────────────────────────────────┼────────────────────────┼───────────────┤\n",
              "│ bidirectional_1 (<span style=\"color: #0087ff; text-decoration-color: #0087ff\">Bidirectional</span>) │ ?                      │   <span style=\"color: #00af00; text-decoration-color: #00af00\">0</span> (unbuilt) │\n",
              "├─────────────────────────────────┼────────────────────────┼───────────────┤\n",
              "│ dropout_5 (<span style=\"color: #0087ff; text-decoration-color: #0087ff\">Dropout</span>)             │ ?                      │             <span style=\"color: #00af00; text-decoration-color: #00af00\">0</span> │\n",
              "├─────────────────────────────────┼────────────────────────┼───────────────┤\n",
              "│ dense_4 (<span style=\"color: #0087ff; text-decoration-color: #0087ff\">Dense</span>)                 │ ?                      │   <span style=\"color: #00af00; text-decoration-color: #00af00\">0</span> (unbuilt) │\n",
              "├─────────────────────────────────┼────────────────────────┼───────────────┤\n",
              "│ dropout_6 (<span style=\"color: #0087ff; text-decoration-color: #0087ff\">Dropout</span>)             │ ?                      │             <span style=\"color: #00af00; text-decoration-color: #00af00\">0</span> │\n",
              "├─────────────────────────────────┼────────────────────────┼───────────────┤\n",
              "│ dense_5 (<span style=\"color: #0087ff; text-decoration-color: #0087ff\">Dense</span>)                 │ ?                      │   <span style=\"color: #00af00; text-decoration-color: #00af00\">0</span> (unbuilt) │\n",
              "└─────────────────────────────────┴────────────────────────┴───────────────┘\n",
              "</pre>\n"
            ]
          },
          "metadata": {}
        },
        {
          "output_type": "display_data",
          "data": {
            "text/plain": [
              "\u001b[1m Total params: \u001b[0m\u001b[38;5;34m0\u001b[0m (0.00 B)\n"
            ],
            "text/html": [
              "<pre style=\"white-space:pre;overflow-x:auto;line-height:normal;font-family:Menlo,'DejaVu Sans Mono',consolas,'Courier New',monospace\"><span style=\"font-weight: bold\"> Total params: </span><span style=\"color: #00af00; text-decoration-color: #00af00\">0</span> (0.00 B)\n",
              "</pre>\n"
            ]
          },
          "metadata": {}
        },
        {
          "output_type": "display_data",
          "data": {
            "text/plain": [
              "\u001b[1m Trainable params: \u001b[0m\u001b[38;5;34m0\u001b[0m (0.00 B)\n"
            ],
            "text/html": [
              "<pre style=\"white-space:pre;overflow-x:auto;line-height:normal;font-family:Menlo,'DejaVu Sans Mono',consolas,'Courier New',monospace\"><span style=\"font-weight: bold\"> Trainable params: </span><span style=\"color: #00af00; text-decoration-color: #00af00\">0</span> (0.00 B)\n",
              "</pre>\n"
            ]
          },
          "metadata": {}
        },
        {
          "output_type": "display_data",
          "data": {
            "text/plain": [
              "\u001b[1m Non-trainable params: \u001b[0m\u001b[38;5;34m0\u001b[0m (0.00 B)\n"
            ],
            "text/html": [
              "<pre style=\"white-space:pre;overflow-x:auto;line-height:normal;font-family:Menlo,'DejaVu Sans Mono',consolas,'Courier New',monospace\"><span style=\"font-weight: bold\"> Non-trainable params: </span><span style=\"color: #00af00; text-decoration-color: #00af00\">0</span> (0.00 B)\n",
              "</pre>\n"
            ]
          },
          "metadata": {}
        }
      ]
    },
    {
      "cell_type": "code",
      "source": [
        "# Add early stopping to prevent overfitting\n",
        "early_stop = tf.keras.callbacks.EarlyStopping(\n",
        "    monitor='val_accuracy',\n",
        "    patience=3,\n",
        "    restore_best_weights=True\n",
        ")\n",
        "\n",
        "# Train for more epochs\n",
        "history = model.fit(\n",
        "    X_train_pad,\n",
        "    y_train,\n",
        "    epochs=20,  # More epochs!\n",
        "    validation_data=(X_test_pad, y_test),\n",
        "    batch_size=32,\n",
        "    callbacks=[early_stop],\n",
        "    verbose=1\n",
        ")\n",
        "\n",
        "print(\"\\n✅ Training complete!\")\n",
        "\n",
        "# Show final accuracy\n",
        "final_acc = history.history['val_accuracy'][-1]\n",
        "print(f\"\\nFinal validation accuracy: {final_acc*100:.2f}%\")"
      ],
      "metadata": {
        "colab": {
          "base_uri": "https://localhost:8080/"
        },
        "id": "UCbU6hNhze_h",
        "outputId": "1424314d-0e75-41a2-a9a9-b57b3cf84ad9"
      },
      "execution_count": null,
      "outputs": [
        {
          "output_type": "stream",
          "name": "stdout",
          "text": [
            "Epoch 1/20\n",
            "\u001b[1m140/140\u001b[0m \u001b[32m━━━━━━━━━━━━━━━━━━━━\u001b[0m\u001b[37m\u001b[0m \u001b[1m26s\u001b[0m 147ms/step - accuracy: 0.8823 - loss: 0.3570 - val_accuracy: 0.9848 - val_loss: 0.0555\n",
            "Epoch 2/20\n",
            "\u001b[1m140/140\u001b[0m \u001b[32m━━━━━━━━━━━━━━━━━━━━\u001b[0m\u001b[37m\u001b[0m \u001b[1m40s\u001b[0m 138ms/step - accuracy: 0.9879 - loss: 0.0538 - val_accuracy: 0.9874 - val_loss: 0.0482\n",
            "Epoch 3/20\n",
            "\u001b[1m140/140\u001b[0m \u001b[32m━━━━━━━━━━━━━━━━━━━━\u001b[0m\u001b[37m\u001b[0m \u001b[1m20s\u001b[0m 137ms/step - accuracy: 0.9942 - loss: 0.0312 - val_accuracy: 0.9865 - val_loss: 0.0535\n",
            "Epoch 4/20\n",
            "\u001b[1m140/140\u001b[0m \u001b[32m━━━━━━━━━━━━━━━━━━━━\u001b[0m\u001b[37m\u001b[0m \u001b[1m21s\u001b[0m 143ms/step - accuracy: 0.9965 - loss: 0.0249 - val_accuracy: 0.9830 - val_loss: 0.0793\n",
            "Epoch 5/20\n",
            "\u001b[1m140/140\u001b[0m \u001b[32m━━━━━━━━━━━━━━━━━━━━\u001b[0m\u001b[37m\u001b[0m \u001b[1m20s\u001b[0m 139ms/step - accuracy: 0.9979 - loss: 0.0116 - val_accuracy: 0.9812 - val_loss: 0.0642\n",
            "\n",
            "✅ Training complete!\n",
            "\n",
            "Final validation accuracy: 98.12%\n"
          ]
        }
      ]
    },
    {
      "cell_type": "code",
      "metadata": {
        "colab": {
          "base_uri": "https://localhost:8080/"
        },
        "id": "df5a7b25",
        "outputId": "98ba6bf6-d886-484c-ae1f-d2a1a9752ba7"
      },
      "source": [
        "def predict_message(text):\n",
        "    seq = tokenizer.texts_to_sequences([text])\n",
        "    padded = pad_sequences(seq, maxlen=max_length, padding='post', truncating='post')\n",
        "    pred = model.predict(padded, verbose=0)[0][0]\n",
        "\n",
        "    if pred > 0.5:\n",
        "        label = 'spam'\n",
        "    else:\n",
        "        label = 'ham'\n",
        "\n",
        "    return [float(pred), label]\n",
        "\n",
        "# Quick test\n",
        "print(\"✅ Function created!\")\n",
        "print(\"\\nQuick test:\")\n",
        "result1 = predict_message(\"how are you doing today\")\n",
        "result2 = predict_message(\"WINNER!! Claim your prize now!!!\")\n",
        "print(f\"'how are you doing today' -> {result1}\")\n",
        "print(f\"'WINNER!! Claim your prize now!!!' -> {result2}\")"
      ],
      "execution_count": null,
      "outputs": [
        {
          "output_type": "stream",
          "name": "stdout",
          "text": [
            "✅ Function created!\n",
            "\n",
            "Quick test:\n",
            "'how are you doing today' -> [0.0016122597735375166, 'ham']\n",
            "'WINNER!! Claim your prize now!!!' -> [0.22087113559246063, 'ham']\n"
          ]
        }
      ]
    },
    {
      "cell_type": "code",
      "source": [
        "def test_predictions():\n",
        "    test_messages = [\n",
        "        \"how are you doing today\",\n",
        "        \"sale today! to stop texts call 98912460324\",\n",
        "        \"i dont want to go. can we try it a different day? available sat\",\n",
        "        \"our new mobile video service is live. just install on your phone to start watching.\",\n",
        "        \"you have won £1000 cash! call to claim your prize.\",\n",
        "        \"i'll bring it tomorrow. don't forget the stuffing.\",\n",
        "        \"thanks for your subscription to ringtone uk your mobile will be charged £5/month\",\n",
        "        \"um k..k. i don't know how am i gonna search him\"\n",
        "    ]\n",
        "\n",
        "    expected = [\"ham\", \"spam\", \"ham\", \"spam\", \"spam\", \"ham\", \"spam\", \"ham\"]\n",
        "\n",
        "    passed = 0\n",
        "    failed = 0\n",
        "\n",
        "    print(\"Testing predictions:\\n\")\n",
        "    for i, (msg, exp) in enumerate(zip(test_messages, expected), 1):\n",
        "        result = predict_message(msg)\n",
        "        pred_label = result[1]\n",
        "        confidence = result[0]\n",
        "\n",
        "        if pred_label == exp:\n",
        "            passed += 1\n",
        "            print(f\"✓ Test {i}: PASS - Predicted: {pred_label.upper()} (confidence: {confidence:.3f})\")\n",
        "        else:\n",
        "            failed += 1\n",
        "            print(f\"✗ Test {i}: FAIL - Expected: {exp.upper()}, Got: {pred_label.upper()} (confidence: {confidence:.3f})\")\n",
        "        print(f\"   Message: '{msg[:60]}...'\")\n",
        "        print()\n",
        "\n",
        "    print(f\"{'='*70}\")\n",
        "    print(f\"RESULTS: {passed}/{len(test_messages)} tests passed\")\n",
        "    print(f\"{'='*70}\")\n",
        "\n",
        "    if passed >= 7:\n",
        "        print(\"\\n🎉🎉🎉 SUCCESS! You passed the project! 🎉🎉🎉\")\n",
        "        print(\"✅ You can now submit your project to FreeCodeCamp!\")\n",
        "        return True\n",
        "    else:\n",
        "        print(f\"\\n⚠️ FAILED - Need at least 7/8 correct, got {passed}/8\")\n",
        "        print(\"\\n💡 Solutions:\")\n",
        "        print(\"1. Run Cell 6 again to retrain\")\n",
        "        print(\"2. Or restart runtime and run all cells again from Cell 1\")\n",
        "        return False\n",
        "\n",
        "test_predictions()"
      ],
      "metadata": {
        "colab": {
          "base_uri": "https://localhost:8080/"
        },
        "id": "CvVVZHHO0KuB",
        "outputId": "97f90071-f122-4339-f293-a9611a68af06"
      },
      "execution_count": null,
      "outputs": [
        {
          "output_type": "stream",
          "name": "stdout",
          "text": [
            "Testing predictions:\n",
            "\n",
            "✓ Test 1: PASS - Predicted: HAM (confidence: 0.002)\n",
            "   Message: 'how are you doing today...'\n",
            "\n",
            "✗ Test 2: FAIL - Expected: SPAM, Got: HAM (confidence: 0.094)\n",
            "   Message: 'sale today! to stop texts call 98912460324...'\n",
            "\n",
            "✓ Test 3: PASS - Predicted: HAM (confidence: 0.001)\n",
            "   Message: 'i dont want to go. can we try it a different day? available ...'\n",
            "\n",
            "✓ Test 4: PASS - Predicted: SPAM (confidence: 0.986)\n",
            "   Message: 'our new mobile video service is live. just install on your p...'\n",
            "\n",
            "✓ Test 5: PASS - Predicted: SPAM (confidence: 0.993)\n",
            "   Message: 'you have won £1000 cash! call to claim your prize....'\n",
            "\n",
            "✓ Test 6: PASS - Predicted: HAM (confidence: 0.001)\n",
            "   Message: 'i'll bring it tomorrow. don't forget the stuffing....'\n",
            "\n",
            "✓ Test 7: PASS - Predicted: SPAM (confidence: 0.995)\n",
            "   Message: 'thanks for your subscription to ringtone uk your mobile will...'\n",
            "\n",
            "✓ Test 8: PASS - Predicted: HAM (confidence: 0.001)\n",
            "   Message: 'um k..k. i don't know how am i gonna search him...'\n",
            "\n",
            "======================================================================\n",
            "RESULTS: 7/8 tests passed\n",
            "======================================================================\n",
            "\n",
            "🎉🎉🎉 SUCCESS! You passed the project! 🎉🎉🎉\n",
            "✅ You can now submit your project to FreeCodeCamp!\n"
          ]
        },
        {
          "output_type": "execute_result",
          "data": {
            "text/plain": [
              "True"
            ]
          },
          "metadata": {},
          "execution_count": 25
        }
      ]
    }
  ],
  "metadata": {
    "colab": {
      "provenance": [],
      "include_colab_link": true
    },
    "kernelspec": {
      "display_name": "Python 3",
      "name": "python3"
    }
  },
  "nbformat": 4,
  "nbformat_minor": 0
}
